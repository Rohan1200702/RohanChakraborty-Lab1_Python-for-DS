{
  "cells": [
    {
      "cell_type": "markdown",
      "id": "2c8f47d3",
      "metadata": {
        "id": "2c8f47d3"
      },
      "source": [
        "# Lab Session - Sample Solution"
      ]
    },
    {
      "cell_type": "markdown",
      "id": "f637aba6",
      "metadata": {
        "id": "f637aba6"
      },
      "source": [
        "## <font color='blue'> Table Of Contents </font>\n",
        "- Problem Statement\n",
        "- Load required libraries\n",
        "- Connect to DB using mysql-connector-python package\n",
        "- Create database named `e_commerce`\n",
        "- Create tables and insert data into tables as specified in the question\n",
        "- Read all the questions and write sql queries to meet the objective "
      ]
    },
    {
      "cell_type": "markdown",
      "id": "1073fc90",
      "metadata": {
        "id": "1073fc90"
      },
      "source": [
        "## <font color='blue'> Problem Statement </font>\n",
        "###  An E-commerce website manages its data in the form of various tables.\n",
        "You need to create a Database called `e_commerce` and various tables in it. The tables needed and attributes which need to be in every table are given before hand. All you have to do is create tables with data in it and answer some of the questions that follows."
      ]
    },
    {
      "cell_type": "code",
      "execution_count": null,
      "id": "74949238",
      "metadata": {
        "id": "74949238",
        "scrolled": true,
        "trusted": true
      },
      "outputs": [],
      "source": [
        "#Load the required libraries\n",
        "import mysql.connector\n",
        "import pandas as pd"
      ]
    },
    {
      "cell_type": "markdown",
      "id": "d7d7fd5c",
      "metadata": {
        "id": "d7d7fd5c"
      },
      "source": [
        "### You are required to create a database named 'e_commerce'"
      ]
    },
    {
      "cell_type": "code",
      "execution_count": null,
      "id": "660363ae",
      "metadata": {
        "id": "660363ae",
        "trusted": true
      },
      "outputs": [],
      "source": [
        "# To make a connection to Mysql server and create a database named 'e_commerce'\n",
        "connection = mysql.connector.connect(host =\"localhost\",\n",
        "                                     user =\"root\",\n",
        "                                     passwd =\"password\")\n",
        " \n",
        "# creating a cursor object\n",
        "cursorObject = connection.cursor()\n",
        " \n",
        "# creating database\n",
        "cursorObject.execute(\"CREATE DATABASE e_commerce\")\n",
        "\n",
        "# closing the connection after creating a database('e_commerce')\n",
        "connection.close()"
      ]
    },
    {
      "cell_type": "markdown",
      "id": "480dc986",
      "metadata": {
        "id": "480dc986"
      },
      "source": [
        "### Q1. Create tables for supplier, customer, category, product, productDetails, order, rating to store the data for the E-commerce with the schema definition given below.\n",
        "\n",
        "- Supplier(SUPP_ID, SUPP_NAME, SUPP_CITY, SUPP_PHONE)\n",
        "-\tCustomer(CUS__ID, CUS_NAME, CUS_PHONE, CUS_CITY, CUS_GENDER)\n",
        "-\tCategory(CAT_ID, CAT_NAME)\n",
        "-\tProduct(PRO_ID, PRO_NAME, PRO_DESC, CAT_ID)\n",
        "-   ProductDetails(PROD_ID, PRO_ID, SUPP_ID, PRICE)\n",
        "-\tOrders(ORD_ID, ORD_AMOUNT, ORD_DATE, CUS_ID, PROD_ID)\n",
        "-\tRating(RAT_ID, CUS_ID, SUPP_ID, RAT_RATSTARS)\n"
      ]
    },
    {
      "cell_type": "code",
      "execution_count": null,
      "id": "8a85bf3c",
      "metadata": {
        "id": "8a85bf3c"
      },
      "outputs": [],
      "source": [
        "# Connect to Mysql server and choose the database('e_commerce') while connecting to the server\n",
        "connection = mysql.connector.connect(host =\"localhost\",\n",
        "                                     user =\"root\",\n",
        "                                     passwd =\"password\",\n",
        "                                     database = \"e_commerce\")\n",
        "\n",
        "# creating a cursor object\n",
        "cursorObject = connection.cursor()"
      ]
    },
    {
      "cell_type": "code",
      "execution_count": null,
      "id": "c31afedd",
      "metadata": {
        "id": "c31afedd"
      },
      "outputs": [],
      "source": [
        "# Q1: Creating tables \n",
        "\n",
        "table_creation_query =  \"\"\"CREATE TABLE supplier (`SUPP_ID` int primary key,`SUPP_NAME` varchar(50) ,\n",
        "                    `SUPP_CITY` varchar(50),`SUPP_PHONE` varchar(10));\n",
        "                    \n",
        "                    CREATE TABLE customer (`CUS_ID` INT NOT NULL,`CUS_NAME` VARCHAR(20) NULL DEFAULT NULL,\n",
        "                    `CUS_PHONE` VARCHAR(10),`CUS_CITY` varchar(30) ,`CUS_GENDER` CHAR,PRIMARY KEY (`CUS_ID`));\n",
        "                    \n",
        "                    CREATE TABLE category (`CAT_ID` INT NOT NULL,`CAT_NAME` VARCHAR(20) NULL DEFAULT NULL,\n",
        "                    PRIMARY KEY (`CAT_ID`));\n",
        "\n",
        "                    CREATE TABLE product (`PRO_ID` INT NOT NULL,`PRO_NAME` VARCHAR(20) NULL DEFAULT NULL,\n",
        "                    `PRO_DESC` VARCHAR(60) NULL DEFAULT NULL,`CAT_ID` INT NOT NULL,PRIMARY KEY (`PRO_ID`),\n",
        "                    FOREIGN KEY (`CAT_ID`) REFERENCES CATEGORY (`CAT_ID`));\n",
        "                     \n",
        "                    CREATE TABLE product_details (`PROD_ID` INT NOT NULL,`PRO_ID` INT NOT NULL,`SUPP_ID` INT NOT NULL,\n",
        "                    `PROD_PRICE` INT NOT NULL, PRIMARY KEY (`PROD_ID`),FOREIGN KEY (`PRO_ID`) REFERENCES PRODUCT (`PRO_ID`),\n",
        "                    FOREIGN KEY (`SUPP_ID`) REFERENCES SUPPLIER(`SUPP_ID`));\n",
        "                      \n",
        "                    CREATE TABLE orders (`ORD_ID` INT NOT NULL,`ORD_AMOUNT` INT NOT NULL,`ORD_DATE` DATE,\n",
        "                    `CUS_ID` INT NOT NULL,`PROD_ID` INT NOT NULL, PRIMARY KEY (`ORD_ID`),\n",
        "                    FOREIGN KEY (`CUS_ID`) REFERENCES CUSTOMER(`CUS_ID`),\n",
        "                    FOREIGN KEY (`PROD_ID`) REFERENCES PRODUCT_DETAILS(`PROD_ID`));\n",
        "                    \n",
        "                    CREATE TABLE rating (`RAT_ID` INT NOT NULL,`CUS_ID` INT NOT NULL,\n",
        "                    `SUPP_ID` INT NOT NULL,`RAT_RATSTARS` INT NOT NULL,PRIMARY KEY (`RAT_ID`),\n",
        "                    FOREIGN KEY (`SUPP_ID`) REFERENCES SUPPLIER (`SUPP_ID`),\n",
        "                    FOREIGN KEY (`CUS_ID`) REFERENCES CUSTOMER(`CUS_ID`));\"\"\"\n",
        "\n",
        "# Executing the query\n",
        "cursorObject.execute(table_creation_query)"
      ]
    },
    {
      "cell_type": "markdown",
      "id": "1f653731",
      "metadata": {
        "id": "1f653731"
      },
      "source": [
        "### Q2. Insert the following data in the table created above\n",
        "#### `Note:` If you are getting any error while inserting the data into tables, Kindly close the connection and reconnect\n",
        "\n",
        "#### Table:  supplier\n",
        "| SUPP_ID | SUPP_NAME | SUPP_CITY | SUPP_PHONE |\n",
        "| --- | --- | --- | --- | \n",
        "| 1 | Rajesh Retails | Delhi | 1234567890 |\n",
        "| 2 | Appario Ltd. | Mumbai | 258963147032 | \n",
        "| 3 | Knome products | Bangalore | 9785462315 |\n",
        "| 4 | Bansal Retails | Kochi | 8975463285 |\n",
        "| 5 | Mittal Ltd. | Lucknow | 7898456532 |"
      ]
    },
    {
      "cell_type": "code",
      "execution_count": null,
      "id": "48fb9212",
      "metadata": {
        "id": "48fb9212"
      },
      "outputs": [],
      "source": [
        "# After creating tables close the connection and reconnect to the server for inserting the data \n",
        "\n",
        "# closing the connection \n",
        "connection.close()\n",
        "## Lets make a connection to Mysql server and choose database 'e_commerce'\n",
        "connection = mysql.connector.connect(host =\"localhost\",\n",
        "                                     user =\"root\",\n",
        "                                     passwd =\"password\",\n",
        "                                     database='e_commerce')\n",
        "# creating a cursor object\n",
        "cursorObject = connection.cursor()"
      ]
    },
    {
      "cell_type": "code",
      "execution_count": null,
      "id": "a2b9b43c",
      "metadata": {
        "id": "a2b9b43c"
      },
      "outputs": [],
      "source": [
        "# Inserting Values into \"supplier\" table\n",
        "\n",
        "insert_query = \"INSERT INTO supplier (SUPP_ID, SUPP_NAME, SUPP_CITY, SUPP_PHONE) VALUES (%s, %s, %s, %s)\"\n",
        "val = [(1,\"Rajesh Retails\",\"Delhi\",'1234567890'),\n",
        "       (2,\"Appario Ltd.\",\"Mumbai\",'2589631470'),\n",
        "       (3,\"Knome products\",\"Banglore\",'9785462315'),\n",
        "       (4,\"Bansal Retails\",\"Kochi\",'8975463285'),\n",
        "       (5,\"Mittal Ltd.\",\"Lucknow\",'7898456532')]\n",
        "\n",
        "   \n",
        "cursorObject.executemany(insert_query, val)\n",
        "connection.commit()"
      ]
    },
    {
      "cell_type": "markdown",
      "id": "e8a070a6",
      "metadata": {
        "id": "e8a070a6"
      },
      "source": [
        "#### Table:  customer\n",
        "| CUS_ID | CUS_NAME | SUPP_PHONE | CUS_CITY | CUS_GENDER\n",
        "| --- | --- | --- | --- | --- |\n",
        "| 1 | AAKASH | 9999999999 | DELHI | M |\n",
        "| 2 | AMAN | 9785463215 | NOIDA | M |\n",
        "| 3 | NEHA | 9999999998 | MUMBAI | F |\n",
        "| 4 | MEGHA | 9994562399 | KOLKATA | F |\n",
        "| 5 | PULKIT | 7895999999 | LUCKNOW | M |"
      ]
    },
    {
      "cell_type": "code",
      "execution_count": null,
      "id": "46d4f280",
      "metadata": {
        "id": "46d4f280"
      },
      "outputs": [],
      "source": [
        "## Inserting Values into \"customer\" table\n",
        "\n",
        "insert_query = \"INSERT INTO customer (CUS_ID, CUS_NAME, CUS_PHONE, CUS_CITY, CUS_GENDER) VALUES (%s, %s, %s, %s, %s)\"\n",
        "val = [(1,\"AAKASH\",'9999999999',\"DELHI\",'M'),\n",
        "       (2,\"AMAN\",'9785463215',\"NOIDA\",'M'),\n",
        "       (3,\"NEHA\",'9999999999',\"MUMBAI\",'F'),\n",
        "       (4,\"MEGHA\",'9994562399',\"KOLKATA\",'F'),\n",
        "       (5,\"PULKIT\",'7895999999',\"LUCKNOW\",'M')]\n",
        "\n",
        "\n",
        "cursorObject.executemany(insert_query, val)\n",
        "connection.commit()"
      ]
    },
    {
      "cell_type": "markdown",
      "id": "b68bfbc2",
      "metadata": {
        "id": "b68bfbc2"
      },
      "source": [
        "#### Table:  category\n",
        "| CAT_ID | CAT_NAME | \n",
        "| --- | --- |  \n",
        "| 1 | BOOKS |\n",
        "| 2 | GAMES |  \n",
        "| 3 | GROCERIES | \n",
        "| 4 | ELECTRONICS | \n",
        "| 5 | CLOTHES | "
      ]
    },
    {
      "cell_type": "code",
      "execution_count": null,
      "id": "db108f54",
      "metadata": {
        "id": "db108f54"
      },
      "outputs": [],
      "source": [
        "## Inserting Values into \"category\" table\n",
        "\n",
        "insert_query = \"INSERT INTO category (CAT_ID, CAT_NAME) VALUES (%s, %s)\"\n",
        "val = [(1,\"BOOKS\"),\n",
        "       (2,\"GAMES\"),\n",
        "       (3,\"GROCERIES\"),\n",
        "       (4,\"ELECTRONICS\"),\n",
        "       (5,\"CLOTHES\")]\n",
        "\n",
        "\n",
        "cursorObject.executemany(insert_query, val)\n",
        "connection.commit()"
      ]
    },
    {
      "cell_type": "markdown",
      "id": "eb3bc592",
      "metadata": {
        "id": "eb3bc592"
      },
      "source": [
        "#### Table:  product\n",
        "| PRO_ID | PRO_NAME | PRO_DESC | CAT_ID |\n",
        "| --- | --- | --- | --- | \n",
        "| 1 | GTA V | DFJDJFDJFDJFDJFJF | 2 |\n",
        "| 2 | TSHIRT | DFDFJDFJDKFD | 5 | \n",
        "| 3 | ROG LAPTOP | DFNTTNTNTERND | 4 |\n",
        "| 4 | OATS | REURENTBTOTH | 3 |\n",
        "| 5 | HARRY POTTER | NBEMCTHTJTH | 1 |\n"
      ]
    },
    {
      "cell_type": "code",
      "execution_count": null,
      "id": "694705da",
      "metadata": {
        "id": "694705da"
      },
      "outputs": [],
      "source": [
        "## Inserting Values into \"product\" table\n",
        "\n",
        "insert_query = \"INSERT INTO product (PRO_ID, PRO_NAME, PRO_DESC, CAT_ID) VALUES (%s, %s, %s, %s)\"\n",
        "val = [(1,\"GTA V\",\"DFJDJFDJFDJFDJFJF\",2),\n",
        "       (2,\"TSHIRT\",\"DFDFJDFJDKFD\",5),\n",
        "       (3,\"ROG LAPTOP\",\"DFNTTNTNTERND\",4),\n",
        "       (4,\"OATS\",\"REURENTBTOTH\",3),\n",
        "       (5,\"HARRY POTTER\",\"NBEMCTHTJTH\",1)]\n",
        "\n",
        "\n",
        "cursorObject.executemany(insert_query, val)\n",
        "connection.commit()"
      ]
    },
    {
      "cell_type": "markdown",
      "id": "cfa8a47d",
      "metadata": {
        "id": "cfa8a47d"
      },
      "source": [
        "#### Table:  product_details\n",
        "| PROD_ID | PRO_ID | SUPP_ID | PROD_PRICE |\n",
        "| --- | --- | --- | --- | \n",
        "| 1 | 1 | 2 | 1500 |\n",
        "| 2 | 3 | 5 | 30000 | \n",
        "| 3 | 5 | 1 | 3000 |\n",
        "| 4 | 2 | 3 | 2500 |\n",
        "| 5 | 4 | 1 | 1000 |"
      ]
    },
    {
      "cell_type": "code",
      "execution_count": null,
      "id": "add064bb",
      "metadata": {
        "id": "add064bb"
      },
      "outputs": [],
      "source": [
        "## Inserting Values into \"product_detials\" table\n",
        "\n",
        "insert_query = \"INSERT INTO product_details (PROD_ID, PRO_ID, SUPP_ID, PROD_PRICE) VALUES (%s, %s, %s, %s)\"\n",
        "val = [(1,1,2,1500),\n",
        "       (2,3,5,30000),\n",
        "       (3,5,1,3000),\n",
        "       (4,2,3,2500),\n",
        "       (5,4,1,1000)]\n",
        "\n",
        "\n",
        "cursorObject.executemany(insert_query, val)\n",
        "connection.commit()  "
      ]
    },
    {
      "cell_type": "markdown",
      "id": "1df49086",
      "metadata": {
        "id": "1df49086"
      },
      "source": [
        "#### Table:  orders\n",
        "| ORD_ID | ORD_AMOUNT | ORD_DATE | CUS_ID | PROD_ID\n",
        "| --- | --- | --- | --- | --- |\n",
        "| 20 | 1500 | 2021-10-12 | 3 | 5 |\n",
        "| 25 | 30500 | 2021-09-16 | 5 | 2 |\n",
        "| 26 | 2000 | 2021-10-05 | 1 | 1 |\n",
        "| 30 | 3500 | 2021-08-16 | 4 | 3 |\n",
        "| 50 | 2000 | 2021-10-06 | 2 | 1 |"
      ]
    },
    {
      "cell_type": "code",
      "execution_count": null,
      "id": "3858bf0a",
      "metadata": {
        "id": "3858bf0a"
      },
      "outputs": [],
      "source": [
        "## Inserting Values into \"orders\" table\n",
        "\n",
        "insert_query = \"INSERT INTO orders (ORD_ID, ORD_AMOUNT, ORD_DATE, CUS_ID, PROD_ID) VALUES (%s, %s, %s, %s, %s)\"\n",
        "val = [(20,1500,\"2021-10-12\",3,5),\n",
        "       (25,30500,\"2021-09-16\",5,2),\n",
        "       (26,2000,\"2021-10-05\",1,1),\n",
        "       (30,3500,\"2021-08-16\",4,3),\n",
        "       (50,2000,\"2021-10-06\",2,1)]\n",
        "\n",
        "\n",
        "cursorObject.executemany(insert_query, val)\n",
        "connection.commit()  "
      ]
    },
    {
      "cell_type": "markdown",
      "id": "75b8ce5f",
      "metadata": {
        "id": "75b8ce5f"
      },
      "source": [
        "#### Table: rating\n",
        "| RAT_ID | CUS_ID | SUPP_ID | RAT_RATSTARS |\n",
        "| --- | --- | --- | --- | \n",
        "| 1 | 2 | 2 | 4 |\n",
        "| 2 | 3 | 4 | 3 | \n",
        "| 3 | 5 | 1 | 5 |\n",
        "| 4 | 1 | 3 | 2 |\n",
        "| 5 | 4 | 5 | 4 |"
      ]
    },
    {
      "cell_type": "code",
      "execution_count": null,
      "id": "1caa8552",
      "metadata": {
        "id": "1caa8552"
      },
      "outputs": [],
      "source": [
        "## Inserting Values into \"rating\" table\n",
        "\n",
        "insert_query = \"INSERT INTO rating (RAT_ID, CUS_ID, SUPP_ID, RAT_RATSTARS) VALUES (%s, %s, %s, %s)\"\n",
        "val = [(1,2,2,4),\n",
        "       (2,3,4,3),\n",
        "       (3,5,1,5),\n",
        "       (4,1,3,2),\n",
        "       (5,4,5,4)]\n",
        "\n",
        "\n",
        "cursorObject.executemany(insert_query, val)\n",
        "connection.commit()  "
      ]
    },
    {
      "cell_type": "markdown",
      "id": "b59361c3",
      "metadata": {
        "id": "b59361c3"
      },
      "source": [
        "### Q3) Display the number of the customer group by their genders who have placed any order of amount greater than or equal to Rs.3000."
      ]
    },
    {
      "cell_type": "code",
      "execution_count": null,
      "id": "f9faacd4",
      "metadata": {
        "id": "f9faacd4",
        "outputId": "6c30045a-6658-43d1-aca4-42854dfe3186"
      },
      "outputs": [],
      "source": [
        "Query3=     \"\"\"select customer.cus_gender,count(customer.cus_gender) as count \n",
        "            from customer inner join `orders` on customer.cus_id=`orders`.cus_id \n",
        "            where `orders`.ord_amount>=3000 group by customer.cus_gender;\"\"\"\n",
        "\n",
        "\n",
        "cursorObject.execute(Query3)\n",
        "output = cursorObject.fetchall()\n",
        "\n",
        "output_mf = pd.DataFrame(output, columns=['CUS_GENDER','COUNT'])\n",
        "output_mf"
      ]
    },
    {
      "cell_type": "markdown",
      "id": "e49e04f5",
      "metadata": {
        "id": "e49e04f5"
      },
      "source": [
        "### Q4) Display all the order along with product name ordered by a customer having Customer_Id=2;"
      ]
    },
    {
      "cell_type": "code",
      "execution_count": null,
      "id": "0aa46b92",
      "metadata": {
        "id": "0aa46b92",
        "outputId": "55fe927b-c382-49a2-cf71-d7d63a9e0f4c"
      },
      "outputs": [],
      "source": [
        "Query4=    \"\"\"select `orders`.*,product.pro_name \n",
        "               from `orders` ,product_details,product \n",
        "               where `orders`.cus_id=2 and `orders`.prod_id=product_details.prod_id and product_details.pro_id=product.pro_id;\"\"\"\n",
        "\n",
        "cursorObject.execute(Query4)\n",
        "output = cursorObject.fetchall()\n",
        "\n",
        "\n",
        "output_mf = pd.DataFrame(output, columns=['ORD_ID','ORD_AMOUNT','ORD_DATE','CUS_ID','PROD_ID','PRO_NAME'])\n",
        "output_mf"
      ]
    },
    {
      "cell_type": "markdown",
      "id": "3a33398e",
      "metadata": {
        "id": "3a33398e"
      },
      "source": [
        "### Q5) Display the Supplier details who can supply more than one product."
      ]
    },
    {
      "cell_type": "code",
      "execution_count": null,
      "id": "033dbbd4",
      "metadata": {
        "id": "033dbbd4",
        "outputId": "f1f81cd7-c7de-442b-a93d-5323dac549ef"
      },
      "outputs": [],
      "source": [
        "Query5=     \"\"\"select supplier.* \n",
        "               from supplier,product_details \n",
        "               where supplier.supp_id in \n",
        "               (select product_details.supp_id from product_details \n",
        "               group by product_details.supp_id having count(product_details.supp_id)>1) \n",
        "               group by supplier.supp_id;\"\"\"\n",
        "\n",
        "cursorObject.execute(Query5)\n",
        "output = cursorObject.fetchall()\n",
        "\n",
        "\n",
        "output_mf = pd.DataFrame(output, columns=['SUPP_ID','SUPP_NAME','SUPP_CITY','SUPP_PHONE'])\n",
        "output_mf"
      ]
    },
    {
      "cell_type": "markdown",
      "id": "5fd319ef",
      "metadata": {
        "id": "5fd319ef"
      },
      "source": [
        "### Q6) Find the category of the product whose order amount is minimum."
      ]
    },
    {
      "cell_type": "code",
      "execution_count": null,
      "id": "300609c9",
      "metadata": {
        "id": "300609c9",
        "outputId": "4c5f64c6-f5f2-4626-8905-2107b925482e"
      },
      "outputs": [],
      "source": [
        "Query6=     \"\"\"select category.* \n",
        "               from `orders` inner join product_details on `orders`.prod_id=product_details.prod_id \n",
        "               inner join product on product.pro_id=product_details.pro_id \n",
        "               inner join category on category.cat_id=product.cat_id having min(`orders`.ord_amount);\"\"\"\n",
        "\n",
        "cursorObject.execute(Query6)\n",
        "output = cursorObject.fetchall()\n",
        "\n",
        "\n",
        "output_mf = pd.DataFrame(output, columns=['CAT_ID','CAT_NAME'])\n",
        "output_mf"
      ]
    },
    {
      "cell_type": "markdown",
      "id": "107102d4",
      "metadata": {
        "id": "107102d4"
      },
      "source": [
        "### Q7) Display the Id and Name of the Product ordered after “2021-10-05”."
      ]
    },
    {
      "cell_type": "code",
      "execution_count": null,
      "id": "d30f84c6",
      "metadata": {
        "id": "d30f84c6",
        "outputId": "d2808cb6-07f9-4970-f257-f06374332183"
      },
      "outputs": [],
      "source": [
        "Query7=     \"\"\"select product.pro_id,product.pro_name \n",
        "               from `orders` inner join product_details on product_details.prod_id=`orders`.prod_id \n",
        "               inner join product on product.pro_id=product_details.pro_id where `orders`.ord_date>\"2021-10-05\";\"\"\"\n",
        "\n",
        "cursorObject.execute(Query7)\n",
        "output = cursorObject.fetchall()\n",
        "\n",
        "\n",
        "output_mf = pd.DataFrame(output, columns=['PRO_ID','PRO_NAME'])\n",
        "output_mf"
      ]
    },
    {
      "cell_type": "markdown",
      "id": "bdce7167",
      "metadata": {
        "id": "bdce7167"
      },
      "source": [
        "### Q8) Print the top 3 supplier name and id and rating on the basis of their rating along with the customer name who has given the rating."
      ]
    },
    {
      "cell_type": "code",
      "execution_count": null,
      "id": "bdce1fab",
      "metadata": {
        "id": "bdce1fab",
        "outputId": "9d396b9b-fd69-460a-f634-6bff084b1536"
      },
      "outputs": [],
      "source": [
        "Query8=     \"\"\"select supplier.supp_id,supplier.supp_name,customer.cus_name,rating.rat_ratstars \n",
        "               from rating inner join supplier on rating.supp_id=supplier.supp_id \n",
        "               inner join customer on rating.cus_id=customer.cus_id order by rating.rat_ratstars desc limit 3;\"\"\"\n",
        "\n",
        "cursorObject.execute(Query8)\n",
        "output = cursorObject.fetchall()\n",
        "\n",
        "\n",
        "output_mf = pd.DataFrame(output, columns=['SUPP_ID','SUPP_NAME','CUS_NAME','RAT_RATSTARS'])\n",
        "output_mf"
      ]
    },
    {
      "cell_type": "markdown",
      "id": "346ec2a1",
      "metadata": {
        "id": "346ec2a1"
      },
      "source": [
        "### Q9) Display customer name and gender whose names start or end with character 'A'."
      ]
    },
    {
      "cell_type": "code",
      "execution_count": null,
      "id": "ea5ae756",
      "metadata": {
        "id": "ea5ae756",
        "outputId": "2368af1a-9aa4-4a17-e247-cbdd1f28b894"
      },
      "outputs": [],
      "source": [
        "Query9=     \"\"\"select customer.cus_name ,customer.cus_gender \n",
        "               from customer where customer.cus_name like 'A%' or customer.cus_name like '%A';\"\"\"\n",
        "\n",
        "cursorObject.execute(Query9)\n",
        "output = cursorObject.fetchall()\n",
        "   \n",
        "    \n",
        "output_mf = pd.DataFrame(output, columns=['CUS_NAME','CUS_GENDER'])\n",
        "output_mf"
      ]
    },
    {
      "cell_type": "markdown",
      "id": "d0b01f77",
      "metadata": {
        "id": "d0b01f77"
      },
      "source": [
        "### Q10) Display the total order amount of the male customers."
      ]
    },
    {
      "cell_type": "code",
      "execution_count": null,
      "id": "1caea4b4",
      "metadata": {
        "id": "1caea4b4",
        "outputId": "8ac125bc-5719-48e9-9763-82f284518727"
      },
      "outputs": [],
      "source": [
        "Query10=     \"\"\"select sum(`orders`.ord_amount) as Amount \n",
        "                from `orders` inner join customer on `orders`.cus_id=customer.cus_id where customer.cus_gender='M';\"\"\"\n",
        "\n",
        "cursorObject.execute(Query10)\n",
        "output = cursorObject.fetchall()\n",
        "\n",
        "\n",
        "print(\"Amount is\",output);"
      ]
    },
    {
      "cell_type": "markdown",
      "id": "ff8a9971",
      "metadata": {
        "id": "ff8a9971"
      },
      "source": [
        "### Q11) Display all the Customers left outer join with  the orders"
      ]
    },
    {
      "cell_type": "code",
      "execution_count": null,
      "id": "803ea0da",
      "metadata": {
        "id": "803ea0da",
        "outputId": "5c07bb20-7d94-464f-fe98-407ff3e35d72"
      },
      "outputs": [],
      "source": [
        "Query11=     \"\"\"select *  from customer left outer join `orders` on customer.cus_id=`orders`.cus_id;\"\"\"\n",
        "\n",
        "cursorObject.execute(Query11)\n",
        "output = cursorObject.fetchall()\n",
        "\n",
        "\n",
        "output_mf = pd.DataFrame(output, columns=['CUS_ID','CUS_NAME','CUS_PHONE','CUS_CITY','CUS_GENDER','ORD_ID','ORD_AMOUNT','ORD_DATE','CUS_ID','PROD_ID'])\n",
        "output_mf"
      ]
    },
    {
      "cell_type": "code",
      "execution_count": null,
      "id": "bb2f3039",
      "metadata": {
        "id": "bb2f3039"
      },
      "outputs": [],
      "source": [
        "## closing the connection\n",
        "connection.close()"
      ]
    }
  ],
  "metadata": {
    "colab": {
      "name": "Lab Session - (sample solution).ipynb",
      "provenance": []
    },
    "kernelspec": {
      "display_name": "Python (Pyodide)",
      "language": "python",
      "name": "python"
    },
    "language_info": {
      "codemirror_mode": {
        "name": "python",
        "version": 3
      },
      "file_extension": ".py",
      "mimetype": "text/x-python",
      "name": "python",
      "nbconvert_exporter": "python",
      "pygments_lexer": "ipython3",
      "version": "3.8"
    }
  },
  "nbformat": 4,
  "nbformat_minor": 5
}
